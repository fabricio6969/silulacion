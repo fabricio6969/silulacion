{
 "cells": [
  {
   "cell_type": "markdown",
   "metadata": {},
   "source": [
    "# Prueba Segundo Interciclo"
   ]
  },
  {
   "cell_type": "markdown",
   "metadata": {},
   "source": [
    "Realizado Por : Fabricio Gomez"
   ]
  },
  {
   "cell_type": "code",
   "execution_count": 6,
   "metadata": {},
   "outputs": [
    {
     "name": "stdout",
     "output_type": "stream",
     "text": [
      "Primera parte de la prueba \n",
      " Intervalo        Ei         Oi   (Oi-Ei)**2/Ei\n",
      "0           10(0.0,0.1)      11       0.1\n",
      "1           10(0.1,0.2)      18       6.4\n",
      "2           10(0.2,0.3)      12       0.4\n",
      "3           10(0.3,0.4)      7       0.9\n",
      "4           10(0.4,0.5)      13       0.9\n",
      "5           10(0.5,0.6)      9       0.1\n",
      "6           10(0.6,0.7)      7       0.9\n",
      "7           10(0.7,0.8)      5       2.5\n",
      "8           10(0.8,0.9)      8       0.4\n",
      "9           10(0.9,1.0)      10       0.0\n"
     ]
    },
    {
     "data": {
      "image/png": "[encoded data removed]",
      "text/plain": [
       "<Figure size 432x288 with 1 Axes>"
      ]
     },
     "metadata": {
      "needs_background": "light"
     },
     "output_type": "display_data"
    },
    {
     "name": "stdout",
     "output_type": "stream",
     "text": [
      "Suma:  12.600000000000001\n",
      " Intervalo        Ei         Oi   (Oi-Ei)**2/Ei\n",
      "0           10(0.0,0.1)      11       0.1\n",
      "1           10(0.1,0.2)      11       0.1\n",
      "2           10(0.2,0.3)      0       10.0\n",
      "3           10(0.3,0.4)      22       14.4\n",
      "4           10(0.4,0.5)      0       10.0\n",
      "5           10(0.5,0.6)      0       10.0\n",
      "6           10(0.6,0.7)      11       0.1\n",
      "7           10(0.7,0.8)      11       0.1\n",
      "8           10(0.8,0.9)      23       16.9\n",
      "9           10(0.9,1.0)      11       0.1\n"
     ]
    },
    {
     "data": {
      "image/png": "[encoded data removed]",
      "text/plain": [
       "<Figure size 432x288 with 1 Axes>"
      ]
     },
     "metadata": {
      "needs_background": "light"
     },
     "output_type": "display_data"
    },
    {
     "name": "stdout",
     "output_type": "stream",
     "text": [
      "Suma:  61.800000000000004\n",
      "False\n"
     ]
    }
   ],
   "source": [
    "import pandas as pd\n",
    "import numpy as np\n",
    "from datetime import datetime,timedelta\n",
    "from sklearn.metrics import mean_squared_error\n",
    "from scipy.optimize import curve_fit\n",
    "from scipy.optimize import fsolve\n",
    "from sklearn import linear_model\n",
    "import matplotlib.pyplot as plt\n",
    "import math as mt\n",
    "\n",
    "def m_congruencias_lineales(x, a, c, mod, iters):\n",
    "    num = 0.00\n",
    "    lista =[]\n",
    "    for i in range(iters):\n",
    "        x = (a * x + c) % mod\n",
    "        num = round(x/mod,2)\n",
    "        lista.append(num)\n",
    "    return lista\n",
    "\n",
    "def get_pos(digs):\n",
    "    val1 =0\n",
    "    val2 =0\n",
    "    if digs%2 !=0:\n",
    "        val1 = int(digs/2)\n",
    "        val2 = int(digs/2)+1\n",
    "    else:\n",
    "        val1 = int(digs/2)\n",
    "        val2 = val1\n",
    "    return val1,val2\n",
    "\n",
    "def m_cuadrados_medios(iters, val, digs):\n",
    "    lista =[]\n",
    "    x0_semilla = int(val)\n",
    "    aum = get_pos(digs)\n",
    "    for i in range(iters):\n",
    "        xn2= x0_semilla**2\n",
    "        lon = len(str(xn2))\n",
    "        ui = str(xn2)[int(lon/2)-aum[0]:int(lon/2)+aum[1]]\n",
    "        rn = round(int(ui)/10**digs,2)\n",
    "        lista.append(rn)\n",
    "        x0_semilla=int(ui)\n",
    "    return lista\n",
    "\n",
    "def lista_to_dict(num_grupos, aumento, lista):\n",
    "    grupos = []\n",
    "    ini=0.00\n",
    "    for i in range(num_grupos+1):\n",
    "        grupos.append(round(ini,2))\n",
    "        ini=ini+aumento\n",
    "    a=0\n",
    "    b=1\n",
    "    rangos={}\n",
    "    for i in range(len(grupos)-1):\n",
    "        inf=grupos[a]\n",
    "        sup=grupos[b]\n",
    "        rangos.update({str(inf)+\",\" +str(sup):[]})\n",
    "        for i in lista:\n",
    "            if i==0.00:\n",
    "                if i >=inf and i <=sup:\n",
    "                    rangos[str(inf)+\",\"+str(sup)].append(i)\n",
    "            else:\n",
    "                if i >inf and i <=sup:\n",
    "                    rangos[str(inf)+\",\"+str(sup)].append(i)\n",
    "        a=b\n",
    "        b=a+1\n",
    "    return rangos\n",
    "def chi_cuadrado(lista, valor):\n",
    "    n = int(mt.sqrt(len(lista)))\n",
    "    dic = lista_to_dict(n,1/n, lista)\n",
    "    suma = 0.00\n",
    "    print(\" Intervalo \", \"      Ei \", \"       Oi \", \" (Oi-Ei)**2/Ei\")\n",
    "    for x, it in enumerate(dic.items()):\n",
    "        f = ((len(it[1])-n)**2)/n\n",
    "        suma+=f\n",
    "        print(x, \"         \", str(n)+\"(\"+it[0]+\")     \", len(it[1]),\"     \", f)\n",
    "    \n",
    "    plt.hist(lista)\n",
    "    plt.ylabel('LA FRECUENCA')\n",
    "    plt.xlabel('VALORES EN X')\n",
    "    plt.title('Histograma Chi cuadrado')\n",
    "    plt.show()\n",
    "    \n",
    "    print(\"Suma: \",suma)\n",
    "    if suma< valor:\n",
    "        return True\n",
    "    else:\n",
    "        return False\n",
    "#Chi cuadrado\n",
    "def main():\n",
    "\n",
    "    valor = 16.9\n",
    "    \n",
    "    print(\"Primera parte de la prueba \")\n",
    "    iters = 100\n",
    "    digs = 7\n",
    "    arreglo = m_cuadrados_medios(iters, 74731897457, digs)\n",
    "    res=chi_cuadrado(arreglo,valor) \n",
    "    \n",
    "    \n",
    "    x = 7 \n",
    "    a = 74731897457 \n",
    "    c = 37747318974 \n",
    "    m = 19\n",
    "    arreglo2 = m_congruencias_lineales(x,a,c,m,iters)\n",
    "    res2 = chi_cuadrado(arreglo2,valor)\n",
    "    print(res2)\n",
    "    \n",
    "if __name__ == \"__main__\":\n",
    "    main()"
   ]
  },
  {
   "cell_type": "markdown",
   "metadata": {},
   "source": [
    "Conlcusiones"
   ]
  },
  {
   "cell_type": "markdown",
   "metadata": {},
   "source": [
    "El metodo de los cuadrados medios observamos que genera numero aleatorios de acuerdo a la practica, ya que es necesario para describir el comportamiento del ejercicio."
   ]
  },
  {
   "cell_type": "code",
   "execution_count": null,
   "metadata": {},
   "outputs": [],
   "source": []
  }
 ],
 "metadata": {
  "kernelspec": {
   "display_name": "Python 3",
   "language": "python",
   "name": "python3"
  },
  "language_info": {
   "codemirror_mode": {
    "name": "ipython",
    "version": 3
   },
   "file_extension": ".py",
   "mimetype": "text/x-python",
   "name": "python",
   "nbconvert_exporter": "python",
   "pygments_lexer": "ipython3",
   "version": "3.8.3"
  }
 },
 "nbformat": 4,
 "nbformat_minor": 4
}
