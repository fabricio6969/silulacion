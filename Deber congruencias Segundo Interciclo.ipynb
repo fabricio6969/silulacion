{
 "cells": [
  {
   "cell_type": "markdown",
   "metadata": {},
   "source": [
    "# Deber de Congruencias Lienales "
   ]
  },
  {
   "cell_type": "code",
   "execution_count": 8,
   "metadata": {},
   "outputs": [
    {
     "name": "stdout",
     "output_type": "stream",
     "text": [
      "Semilla: 2\n",
      "Valor del multiplicador: 2\n",
      "Valor constante: 2\n",
      "Valor del modulo: 4\n",
      "\n",
      "Congruencias Lienales\n",
      "  n    Xo       Un    Xn+1\n",
      "  0     2    0.5     2\n"
     ]
    }
   ],
   "source": [
    "\n",
    "def m_congruencias(x, a, c, mod):\n",
    " \n",
    "    bandera = 0\n",
    "    periodo = 0\n",
    "    cont = 0\n",
    "    xant = 0\n",
    "    print(\"\")\n",
    "    print(\"Congruencias Lienales\")\n",
    "    print(\"  n  \", \" Xo \", \"     Un \", \"  Xn+1\")\n",
    "    #ciclo while que nos ayuda a las repeticiones.\n",
    "    while(bandera != x):\n",
    "        #Preguntamos si el periodo es igual a cero entonce la bandera \n",
    "        if (periodo == 0):\n",
    "            bandera = x\n",
    "        xant=x\n",
    "        x = (a * x + c) % mod\n",
    "        print(\" \", cont,\"   \", xant,\"  \", round(xant/mod,4),\"   \", x)\n",
    "        periodo = periodo + 1\n",
    "        cont=cont+1\n",
    "# metodo principla para colocar los valores\n",
    "def main():\n",
    "    x = int(input(\"Semilla: \"))\n",
    "    a = int(input(\"Valor del multiplicador: \"))\n",
    "    c = int(input(\"Valor constante: \"))\n",
    "    m = int(input(\"Valor del modulo: \"))\n",
    "    m_congruencias(x,a,c,m)\n",
    "\n",
    "if __name__ == \"__main__\":\n",
    "    main()"
   ]
  }
 ],
 "metadata": {
  "kernelspec": {
   "display_name": "Python 3",
   "language": "python",
   "name": "python3"
  },
  "language_info": {
   "codemirror_mode": {
    "name": "ipython",
    "version": 3
   },
   "file_extension": ".py",
   "mimetype": "text/x-python",
   "name": "python",
   "nbconvert_exporter": "python",
   "pygments_lexer": "ipython3",
   "version": "3.8.3"
  }
 },
 "nbformat": 4,
 "nbformat_minor": 4
}
